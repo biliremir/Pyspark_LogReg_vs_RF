{
  "nbformat": 4,
  "nbformat_minor": 0,
  "metadata": {
    "colab": {
      "provenance": [],
      "collapsed_sections": [
        "KmiYFkZ8JXgx",
        "_7kbHL7yDamg"
      ]
    },
    "kernelspec": {
      "name": "python3",
      "display_name": "Python 3"
    },
    "language_info": {
      "name": "python"
    }
  },
  "cells": [
    {
      "cell_type": "code",
      "execution_count": null,
      "metadata": {
        "id": "Sa9EGWr29BVv",
        "colab": {
          "base_uri": "https://localhost:8080/"
        },
        "outputId": "4a432285-cc06-455b-8d53-73f5050c38d7"
      },
      "outputs": [
        {
          "output_type": "stream",
          "name": "stdout",
          "text": [
            "Looking in indexes: https://pypi.org/simple, https://us-python.pkg.dev/colab-wheels/public/simple/\n",
            "Collecting pyspark\n",
            "  Downloading pyspark-3.4.0.tar.gz (310.8 MB)\n",
            "\u001b[2K     \u001b[90m━━━━━━━━━━━━━━━━━━━━━━━━━━━━━━━━━━━━━━━\u001b[0m \u001b[32m310.8/310.8 MB\u001b[0m \u001b[31m4.4 MB/s\u001b[0m eta \u001b[36m0:00:00\u001b[0m\n",
            "\u001b[?25h  Preparing metadata (setup.py) ... \u001b[?25l\u001b[?25hdone\n",
            "Requirement already satisfied: py4j==0.10.9.7 in /usr/local/lib/python3.10/dist-packages (from pyspark) (0.10.9.7)\n",
            "Building wheels for collected packages: pyspark\n",
            "  Building wheel for pyspark (setup.py) ... \u001b[?25l\u001b[?25hdone\n",
            "  Created wheel for pyspark: filename=pyspark-3.4.0-py2.py3-none-any.whl size=311317130 sha256=894a4b2cc3d8e1ed3d5f5b405698064de66e5565480761ab85008b1a7591ce34\n",
            "  Stored in directory: /root/.cache/pip/wheels/7b/1b/4b/3363a1d04368e7ff0d408e57ff57966fcdf00583774e761327\n",
            "Successfully built pyspark\n",
            "Installing collected packages: pyspark\n",
            "Successfully installed pyspark-3.4.0\n"
          ]
        }
      ],
      "source": [
        "  !pip install pyspark"
      ]
    },
    {
      "cell_type": "markdown",
      "source": [
        "# Log_Reg_dataset.csv"
      ],
      "metadata": {
        "id": "KmiYFkZ8JXgx"
      }
    },
    {
      "cell_type": "code",
      "source": [
        "from pyspark.sql import SparkSession\n",
        "spark=SparkSession.builder.appName('log_reg').getOrCreate()"
      ],
      "metadata": {
        "id": "YWXmIcbA9T-h"
      },
      "execution_count": null,
      "outputs": []
    },
    {
      "cell_type": "code",
      "source": [
        "df=spark.read.csv('Log_Reg_dataset.csv',inferSchema=True,header=True)\n",
        "print((df.count(), len(df.columns)))\n"
      ],
      "metadata": {
        "colab": {
          "base_uri": "https://localhost:8080/"
        },
        "id": "bhBAa40hplJP",
        "outputId": "29990b6b-3d8d-4710-a9f2-f425dcaf0ffd"
      },
      "execution_count": null,
      "outputs": [
        {
          "output_type": "stream",
          "name": "stdout",
          "text": [
            "(20000, 6)\n"
          ]
        }
      ]
    },
    {
      "cell_type": "code",
      "source": [
        "df.printSchema()\n"
      ],
      "metadata": {
        "colab": {
          "base_uri": "https://localhost:8080/"
        },
        "id": "42vdNOWZp0K3",
        "outputId": "c8bfb0b5-b8c1-4b2d-b5dd-dcd9f9d6a5b6"
      },
      "execution_count": null,
      "outputs": [
        {
          "output_type": "stream",
          "name": "stdout",
          "text": [
            "root\n",
            " |-- Country: string (nullable = true)\n",
            " |-- Age: integer (nullable = true)\n",
            " |-- Repeat_Visitor: integer (nullable = true)\n",
            " |-- Platform: string (nullable = true)\n",
            " |-- Web_pages_viewed: integer (nullable = true)\n",
            " |-- Status: integer (nullable = true)\n",
            "\n"
          ]
        }
      ]
    },
    {
      "cell_type": "code",
      "source": [
        "df.show(10,False)"
      ],
      "metadata": {
        "colab": {
          "base_uri": "https://localhost:8080/"
        },
        "id": "tuyw5t2Zp4st",
        "outputId": "2f53ab01-626a-40d2-b6f1-2a73e5fd7702"
      },
      "execution_count": null,
      "outputs": [
        {
          "output_type": "stream",
          "name": "stdout",
          "text": [
            "+---------+---+--------------+--------+----------------+------+\n",
            "|Country  |Age|Repeat_Visitor|Platform|Web_pages_viewed|Status|\n",
            "+---------+---+--------------+--------+----------------+------+\n",
            "|India    |41 |1             |Yahoo   |21              |1     |\n",
            "|Brazil   |28 |1             |Yahoo   |5               |0     |\n",
            "|Brazil   |40 |0             |Google  |3               |0     |\n",
            "|Indonesia|31 |1             |Bing    |15              |1     |\n",
            "|Malaysia |32 |0             |Google  |15              |1     |\n",
            "|Brazil   |32 |0             |Google  |3               |0     |\n",
            "|Brazil   |32 |0             |Google  |6               |0     |\n",
            "|Indonesia|27 |0             |Google  |9               |0     |\n",
            "|Indonesia|32 |0             |Yahoo   |2               |0     |\n",
            "|Indonesia|31 |1             |Bing    |16              |1     |\n",
            "+---------+---+--------------+--------+----------------+------+\n",
            "only showing top 10 rows\n",
            "\n"
          ]
        }
      ]
    },
    {
      "cell_type": "code",
      "source": [
        "df.describe().show()"
      ],
      "metadata": {
        "colab": {
          "base_uri": "https://localhost:8080/"
        },
        "id": "Fymo4JJfqE5h",
        "outputId": "6a44edf9-2c54-438a-e8a7-bdd1636bd333"
      },
      "execution_count": null,
      "outputs": [
        {
          "output_type": "stream",
          "name": "stdout",
          "text": [
            "+-------+--------+-----------------+-----------------+--------+-----------------+------------------+\n",
            "|summary| Country|              Age|   Repeat_Visitor|Platform| Web_pages_viewed|            Status|\n",
            "+-------+--------+-----------------+-----------------+--------+-----------------+------------------+\n",
            "|  count|   20000|            20000|            20000|   20000|            20000|             20000|\n",
            "|   mean|    null|         28.53955|           0.5029|    null|           9.5533|               0.5|\n",
            "| stddev|    null|7.888912950773227|0.500004090187782|    null|6.073903499824976|0.5000125004687693|\n",
            "|    min|  Brazil|               17|                0|    Bing|                1|                 0|\n",
            "|    max|Malaysia|              111|                1|   Yahoo|               29|                 1|\n",
            "+-------+--------+-----------------+-----------------+--------+-----------------+------------------+\n",
            "\n"
          ]
        }
      ]
    },
    {
      "cell_type": "code",
      "source": [
        "df.groupBy('Country').count().show()"
      ],
      "metadata": {
        "colab": {
          "base_uri": "https://localhost:8080/"
        },
        "id": "tcC7MlZEqHEe",
        "outputId": "ca96adac-975c-4972-fab4-bcad4676b0ea"
      },
      "execution_count": null,
      "outputs": [
        {
          "output_type": "stream",
          "name": "stdout",
          "text": [
            "+---------+-----+\n",
            "|  Country|count|\n",
            "+---------+-----+\n",
            "| Malaysia| 1218|\n",
            "|    India| 4018|\n",
            "|Indonesia|12178|\n",
            "|   Brazil| 2586|\n",
            "+---------+-----+\n",
            "\n"
          ]
        }
      ]
    },
    {
      "cell_type": "code",
      "source": [
        "df.groupBy('Platform').count().show()"
      ],
      "metadata": {
        "colab": {
          "base_uri": "https://localhost:8080/"
        },
        "id": "dhdl4lLVqLK3",
        "outputId": "4954dde3-1cf9-4b09-99fa-f7a23d0316f5"
      },
      "execution_count": null,
      "outputs": [
        {
          "output_type": "stream",
          "name": "stdout",
          "text": [
            "+--------+-----+\n",
            "|Platform|count|\n",
            "+--------+-----+\n",
            "|   Yahoo| 9859|\n",
            "|    Bing| 4360|\n",
            "|  Google| 5781|\n",
            "+--------+-----+\n",
            "\n"
          ]
        }
      ]
    },
    {
      "cell_type": "code",
      "source": [
        "df.groupBy('Country').mean().show()\n",
        "df.groupBy('Platform').mean().show()\n",
        "df.groupBy(\"Status\").mean().show()"
      ],
      "metadata": {
        "colab": {
          "base_uri": "https://localhost:8080/"
        },
        "id": "tsoO970eqcF9",
        "outputId": "d4f019d2-7491-4097-cd5c-06c6fbcbeb6f"
      },
      "execution_count": null,
      "outputs": [
        {
          "output_type": "stream",
          "name": "stdout",
          "text": [
            "+---------+------------------+-------------------+---------------------+--------------------+\n",
            "|  Country|          avg(Age)|avg(Repeat_Visitor)|avg(Web_pages_viewed)|         avg(Status)|\n",
            "+---------+------------------+-------------------+---------------------+--------------------+\n",
            "| Malaysia|27.792282430213465| 0.5730706075533661|   11.192118226600986|  0.6568144499178982|\n",
            "|    India|27.976854156296664| 0.5433051269288203|   10.727227476356397|  0.6212045793927327|\n",
            "|Indonesia| 28.43159796354081| 0.5207751683363442|    9.985711939563148|  0.5422893742814913|\n",
            "|   Brazil|30.274168600154677|  0.322892498066512|    4.921113689095128|0.038669760247486466|\n",
            "+---------+------------------+-------------------+---------------------+--------------------+\n",
            "\n",
            "+--------+------------------+-------------------+---------------------+------------------+\n",
            "|Platform|          avg(Age)|avg(Repeat_Visitor)|avg(Web_pages_viewed)|       avg(Status)|\n",
            "+--------+------------------+-------------------+---------------------+------------------+\n",
            "|   Yahoo|28.569226087838523| 0.5094837204584644|    9.599655137437875|0.5071508266558474|\n",
            "|    Bing| 28.68394495412844| 0.4720183486238532|    9.114908256880733|0.4559633027522936|\n",
            "|  Google|28.380038055699707| 0.5149628092025601|    9.804878048780488|0.5210171250648676|\n",
            "+--------+------------------+-------------------+---------------------+------------------+\n",
            "\n",
            "+------+--------+-------------------+---------------------+-----------+\n",
            "|Status|avg(Age)|avg(Repeat_Visitor)|avg(Web_pages_viewed)|avg(Status)|\n",
            "+------+--------+-------------------+---------------------+-----------+\n",
            "|     1| 26.5435|             0.7019|              14.5617|        1.0|\n",
            "|     0| 30.5356|             0.3039|               4.5449|        0.0|\n",
            "+------+--------+-------------------+---------------------+-----------+\n",
            "\n"
          ]
        }
      ]
    },
    {
      "cell_type": "code",
      "source": [
        "from pyspark.ml.feature import StringIndexer\n",
        "from pyspark.ml.feature import VectorAssembler"
      ],
      "metadata": {
        "id": "MIxCyHOEqopG"
      },
      "execution_count": null,
      "outputs": []
    },
    {
      "cell_type": "markdown",
      "source": [
        "One hot encoding\n"
      ],
      "metadata": {
        "id": "J_O4-ZQsxed3"
      }
    },
    {
      "cell_type": "code",
      "source": [
        "Platform_indexer =StringIndexer(inputCol=\"Platform\",\n",
        "outputCol=\"Platform_Num\").fit(df)\n",
        "df = Platform_indexer.transform(df)\n",
        "df.show(5,False)"
      ],
      "metadata": {
        "colab": {
          "base_uri": "https://localhost:8080/"
        },
        "id": "7hHulCbwq0sd",
        "outputId": "112647ea-09d8-4c2c-ab41-5bac1f621995"
      },
      "execution_count": null,
      "outputs": [
        {
          "output_type": "stream",
          "name": "stdout",
          "text": [
            "+---------+---+--------------+--------+----------------+------+------------+\n",
            "|Country  |Age|Repeat_Visitor|Platform|Web_pages_viewed|Status|Platform_Num|\n",
            "+---------+---+--------------+--------+----------------+------+------------+\n",
            "|India    |41 |1             |Yahoo   |21              |1     |0.0         |\n",
            "|Brazil   |28 |1             |Yahoo   |5               |0     |0.0         |\n",
            "|Brazil   |40 |0             |Google  |3               |0     |1.0         |\n",
            "|Indonesia|31 |1             |Bing    |15              |1     |2.0         |\n",
            "|Malaysia |32 |0             |Google  |15              |1     |1.0         |\n",
            "+---------+---+--------------+--------+----------------+------+------------+\n",
            "only showing top 5 rows\n",
            "\n"
          ]
        }
      ]
    },
    {
      "cell_type": "code",
      "source": [
        "from pyspark.ml.feature import OneHotEncoder\n",
        "search_engine_encoder=OneHotEncoder(inputCol=\"Platform_Num\",\n",
        "outputCol='Platform_Vector').fit(df)\n",
        "df = search_engine_encoder.transform(df)\n",
        "df.show(3,False)"
      ],
      "metadata": {
        "colab": {
          "base_uri": "https://localhost:8080/"
        },
        "id": "diuCsLUUsq_K",
        "outputId": "aea42d33-24ea-4739-9e67-650a28cf46c5"
      },
      "execution_count": null,
      "outputs": [
        {
          "output_type": "stream",
          "name": "stdout",
          "text": [
            "+-------+---+--------------+--------+----------------+------+------------+---------------+\n",
            "|Country|Age|Repeat_Visitor|Platform|Web_pages_viewed|Status|Platform_Num|Platform_Vector|\n",
            "+-------+---+--------------+--------+----------------+------+------------+---------------+\n",
            "|India  |41 |1             |Yahoo   |21              |1     |0.0         |(2,[0],[1.0])  |\n",
            "|Brazil |28 |1             |Yahoo   |5               |0     |0.0         |(2,[0],[1.0])  |\n",
            "|Brazil |40 |0             |Google  |3               |0     |1.0         |(2,[1],[1.0])  |\n",
            "+-------+---+--------------+--------+----------------+------+------------+---------------+\n",
            "only showing top 3 rows\n",
            "\n"
          ]
        }
      ]
    },
    {
      "cell_type": "code",
      "source": [
        "df.groupBy('Platform_Vector').count().orderBy('count',\n",
        "ascending=False).show(5,False)"
      ],
      "metadata": {
        "colab": {
          "base_uri": "https://localhost:8080/"
        },
        "id": "ma2qsFL6trlD",
        "outputId": "fa03f8af-129a-4c3f-9ddf-adcd510df9ba"
      },
      "execution_count": null,
      "outputs": [
        {
          "output_type": "stream",
          "name": "stdout",
          "text": [
            "+---------------+-----+\n",
            "|Platform_Vector|count|\n",
            "+---------------+-----+\n",
            "|(2,[0],[1.0])  |9859 |\n",
            "|(2,[1],[1.0])  |5781 |\n",
            "|(2,[],[])      |4360 |\n",
            "+---------------+-----+\n",
            "\n"
          ]
        }
      ]
    },
    {
      "cell_type": "markdown",
      "source": [
        "One hot encoding\n"
      ],
      "metadata": {
        "id": "mdvvYdYrxaL-"
      }
    },
    {
      "cell_type": "code",
      "source": [
        "country_indexer = StringIndexer(inputCol=\"Country\",\n",
        "outputCol=\"Country_Num\").fit(df)\n",
        "df = country_indexer.transform(df)\n",
        "df.groupBy('Country').count().orderBy('count',ascending=False).show(5,False)\n",
        "\n",
        "\n",
        "df.groupBy('Country_Num').count().orderBy('count',\n",
        "ascending=False).show(5,False)\n",
        "\n",
        "country_encoder = OneHotEncoder(inputCol=\"Country_Num\",\n",
        "outputCol=\"Country_Vector\").fit(df)\n",
        "\n",
        "df = country_encoder.transform(df)\n",
        "\n",
        "df.select(['Country','Country_Num','Country_Vector']).show(3,False)"
      ],
      "metadata": {
        "colab": {
          "base_uri": "https://localhost:8080/"
        },
        "id": "7DT_YKr2t9T4",
        "outputId": "07875132-3786-4739-86fe-12992c3f0cc6"
      },
      "execution_count": null,
      "outputs": [
        {
          "output_type": "stream",
          "name": "stdout",
          "text": [
            "+---------+-----+\n",
            "|Country  |count|\n",
            "+---------+-----+\n",
            "|Indonesia|12178|\n",
            "|India    |4018 |\n",
            "|Brazil   |2586 |\n",
            "|Malaysia |1218 |\n",
            "+---------+-----+\n",
            "\n",
            "+-----------+-----+\n",
            "|Country_Num|count|\n",
            "+-----------+-----+\n",
            "|0.0        |12178|\n",
            "|1.0        |4018 |\n",
            "|2.0        |2586 |\n",
            "|3.0        |1218 |\n",
            "+-----------+-----+\n",
            "\n",
            "+-------+-----------+--------------+\n",
            "|Country|Country_Num|Country_Vector|\n",
            "+-------+-----------+--------------+\n",
            "|India  |1.0        |(3,[1],[1.0]) |\n",
            "|Brazil |2.0        |(3,[2],[1.0]) |\n",
            "|Brazil |2.0        |(3,[2],[1.0]) |\n",
            "+-------+-----------+--------------+\n",
            "only showing top 3 rows\n",
            "\n"
          ]
        }
      ]
    },
    {
      "cell_type": "markdown",
      "source": [
        "Vector Assembler"
      ],
      "metadata": {
        "id": "NXos9uiKxSsw"
      }
    },
    {
      "cell_type": "code",
      "source": [
        "df_assembler = VectorAssembler(inputCols=['Platform_Vector','Country_Vector','Age', 'Repeat_Visitor',\n",
        "'Web_pages_viewed'], outputCol=\"features\")\n",
        "df = df_assembler.transform(df)\n",
        "df.printSchema()"
      ],
      "metadata": {
        "colab": {
          "base_uri": "https://localhost:8080/"
        },
        "id": "5n7-1y5DvRvn",
        "outputId": "71906c26-c1d9-4f4e-ec72-d6e6abd54af7"
      },
      "execution_count": null,
      "outputs": [
        {
          "output_type": "stream",
          "name": "stdout",
          "text": [
            "root\n",
            " |-- Country: string (nullable = true)\n",
            " |-- Age: integer (nullable = true)\n",
            " |-- Repeat_Visitor: integer (nullable = true)\n",
            " |-- Platform: string (nullable = true)\n",
            " |-- Web_pages_viewed: integer (nullable = true)\n",
            " |-- Status: integer (nullable = true)\n",
            " |-- Platform_Num: double (nullable = false)\n",
            " |-- Platform_Vector: vector (nullable = true)\n",
            " |-- Country_Num: double (nullable = false)\n",
            " |-- Country_Vector: vector (nullable = true)\n",
            " |-- features: vector (nullable = true)\n",
            "\n"
          ]
        }
      ]
    },
    {
      "cell_type": "markdown",
      "source": [
        "Splitting the dataset\n"
      ],
      "metadata": {
        "id": "wOh8S577xQ7I"
      }
    },
    {
      "cell_type": "code",
      "source": [
        "model_df=df.select(['features','Status'])\n",
        "training_df,test_df=model_df.randomSplit([0.75,0.25])\n",
        "print(training_df.count())\n",
        "\n",
        "training_df.groupBy('Status').count().show()"
      ],
      "metadata": {
        "colab": {
          "base_uri": "https://localhost:8080/"
        },
        "id": "095HQAMjvq1d",
        "outputId": "9e945a48-51c7-437c-e63b-10c973c92fdb"
      },
      "execution_count": null,
      "outputs": [
        {
          "output_type": "stream",
          "name": "stdout",
          "text": [
            "14963\n",
            "+------+-----+\n",
            "|Status|count|\n",
            "+------+-----+\n",
            "|     1| 7522|\n",
            "|     0| 7441|\n",
            "+------+-----+\n",
            "\n"
          ]
        }
      ]
    },
    {
      "cell_type": "markdown",
      "source": [
        "Build Logistic Model"
      ],
      "metadata": {
        "id": "C7bF26VwxMG5"
      }
    },
    {
      "cell_type": "code",
      "source": [
        "from pyspark.ml.classification import LogisticRegression\n",
        "log_reg=LogisticRegression(labelCol='Status').fit(training_df)"
      ],
      "metadata": {
        "id": "33v5Ka2nv1r6"
      },
      "execution_count": null,
      "outputs": []
    },
    {
      "cell_type": "markdown",
      "source": [
        "Training results"
      ],
      "metadata": {
        "id": "KDPj_y8gxIY5"
      }
    },
    {
      "cell_type": "code",
      "source": [
        "train_results=log_reg.evaluate(training_df).predictions\n",
        "train_results.filter(train_results['Status']==1).filter(train_results['prediction']==1).select(['Status',\n",
        "'prediction','probability']).show(10,False)"
      ],
      "metadata": {
        "colab": {
          "base_uri": "https://localhost:8080/"
        },
        "id": "HlIgBV9nv-tx",
        "outputId": "5fddc643-8b4d-4545-fa7d-3e7014275bef"
      },
      "execution_count": null,
      "outputs": [
        {
          "output_type": "stream",
          "name": "stdout",
          "text": [
            "+------+----------+----------------------------------------+\n",
            "|Status|prediction|probability                             |\n",
            "+------+----------+----------------------------------------+\n",
            "|1     |1.0       |[0.3082522414104004,0.6917477585895996] |\n",
            "|1     |1.0       |[0.3082522414104004,0.6917477585895996] |\n",
            "|1     |1.0       |[0.17521526788871197,0.824784732111288] |\n",
            "|1     |1.0       |[0.17521526788871197,0.824784732111288] |\n",
            "|1     |1.0       |[0.09196196176231414,0.9080380382376858]|\n",
            "|1     |1.0       |[0.09196196176231414,0.9080380382376858]|\n",
            "|1     |1.0       |[0.09196196176231414,0.9080380382376858]|\n",
            "|1     |1.0       |[0.04605738608711114,0.9539426139128888]|\n",
            "|1     |1.0       |[0.04605738608711114,0.9539426139128888]|\n",
            "|1     |1.0       |[0.04605738608711114,0.9539426139128888]|\n",
            "+------+----------+----------------------------------------+\n",
            "only showing top 10 rows\n",
            "\n"
          ]
        }
      ]
    },
    {
      "cell_type": "markdown",
      "source": [
        "Evaluation of the model"
      ],
      "metadata": {
        "id": "qoyW7iK_xDkm"
      }
    },
    {
      "cell_type": "code",
      "source": [
        "results=log_reg.evaluate(test_df).predictions\n",
        "results.printSchema()\n",
        "results.select(['Status','prediction']).show(10,False)"
      ],
      "metadata": {
        "colab": {
          "base_uri": "https://localhost:8080/"
        },
        "id": "NuA6bnycwNAV",
        "outputId": "61518d5a-025f-4ea7-d66c-074c9dbd4980"
      },
      "execution_count": null,
      "outputs": [
        {
          "output_type": "stream",
          "name": "stdout",
          "text": [
            "root\n",
            " |-- features: vector (nullable = true)\n",
            " |-- Status: integer (nullable = true)\n",
            " |-- rawPrediction: vector (nullable = true)\n",
            " |-- probability: vector (nullable = true)\n",
            " |-- prediction: double (nullable = false)\n",
            "\n",
            "+------+----------+\n",
            "|Status|prediction|\n",
            "+------+----------+\n",
            "|0     |0.0       |\n",
            "|0     |0.0       |\n",
            "|0     |0.0       |\n",
            "|0     |0.0       |\n",
            "|0     |0.0       |\n",
            "|0     |0.0       |\n",
            "|0     |0.0       |\n",
            "|0     |0.0       |\n",
            "|0     |0.0       |\n",
            "|0     |0.0       |\n",
            "+------+----------+\n",
            "only showing top 10 rows\n",
            "\n"
          ]
        }
      ]
    },
    {
      "cell_type": "markdown",
      "source": [
        "Confusion Matrix"
      ],
      "metadata": {
        "id": "h11uZPXTwWgg"
      }
    },
    {
      "cell_type": "code",
      "source": [
        "tp = results[(results.Status == 1) & (results.prediction == 1)].count()\n",
        "tn = results[(results.Status == 0) & (results.prediction == 0)].count()\n",
        "fp = results[(results.Status == 0) & (results.prediction == 1)].count()\n",
        "fn = results[(results.Status == 1) & (results.prediction == 0)].count()"
      ],
      "metadata": {
        "id": "g8y1VJtUwYcy"
      },
      "execution_count": null,
      "outputs": []
    },
    {
      "cell_type": "markdown",
      "source": [
        "Accuracy"
      ],
      "metadata": {
        "id": "w8sF9rRIwhEc"
      }
    },
    {
      "cell_type": "code",
      "source": [
        "accuracy=float((tp + tn) / (results.count()))\n",
        "print(accuracy)"
      ],
      "metadata": {
        "colab": {
          "base_uri": "https://localhost:8080/"
        },
        "id": "WMZ7ntySwjDb",
        "outputId": "b732c35d-d331-47ac-ebbb-6dd00e38d919"
      },
      "execution_count": null,
      "outputs": [
        {
          "output_type": "stream",
          "name": "stdout",
          "text": [
            "0.9448084177089537\n"
          ]
        }
      ]
    },
    {
      "cell_type": "markdown",
      "source": [
        "Recall"
      ],
      "metadata": {
        "id": "CZlLluj0wtYs"
      }
    },
    {
      "cell_type": "code",
      "source": [
        "recall = float(tp)/(tp + fn)\n",
        "print(recall)"
      ],
      "metadata": {
        "colab": {
          "base_uri": "https://localhost:8080/"
        },
        "id": "B2nLNw4Awuqk",
        "outputId": "a4fae636-e849-4a5a-f7fd-bedc3a7f1817"
      },
      "execution_count": null,
      "outputs": [
        {
          "output_type": "stream",
          "name": "stdout",
          "text": [
            "0.9426957223567393\n"
          ]
        }
      ]
    },
    {
      "cell_type": "markdown",
      "source": [
        "Precision"
      ],
      "metadata": {
        "id": "IWV0MY-Dw12a"
      }
    },
    {
      "cell_type": "code",
      "source": [
        "precision = float(tp) / (tp + fp)\n",
        "print(precision)"
      ],
      "metadata": {
        "colab": {
          "base_uri": "https://localhost:8080/"
        },
        "id": "B6II6BUNw3J0",
        "outputId": "bf92fe8a-6726-4d4b-8aa5-2a4244deaf71"
      },
      "execution_count": null,
      "outputs": [
        {
          "output_type": "stream",
          "name": "stdout",
          "text": [
            "0.9449838187702265\n"
          ]
        }
      ]
    },
    {
      "cell_type": "markdown",
      "source": [
        "# AFFAIRS.CSV"
      ],
      "metadata": {
        "id": "_7kbHL7yDamg"
      }
    },
    {
      "cell_type": "code",
      "source": [
        "from pyspark.sql import SparkSession\n",
        "spark=SparkSession.builder.appName('log_reg').getOrCreate()"
      ],
      "metadata": {
        "id": "DfFeKFxoDskw"
      },
      "execution_count": null,
      "outputs": []
    },
    {
      "cell_type": "code",
      "source": [
        "df=spark.read.csv('affairs.csv',inferSchema=True,header=True)\n",
        "print((df.count(), len(df.columns)))"
      ],
      "metadata": {
        "colab": {
          "base_uri": "https://localhost:8080/"
        },
        "id": "gm7-ID4iEGoS",
        "outputId": "80bd5bd9-cb18-47f2-ddac-c8f11c701dec"
      },
      "execution_count": null,
      "outputs": [
        {
          "output_type": "stream",
          "name": "stdout",
          "text": [
            "(6366, 6)\n"
          ]
        }
      ]
    },
    {
      "cell_type": "code",
      "source": [
        "df.printSchema()\n",
        "df.show(20,False)\n",
        "#df.describe().show()"
      ],
      "metadata": {
        "id": "869Au_eUEOca"
      },
      "execution_count": null,
      "outputs": []
    },
    {
      "cell_type": "code",
      "source": [
        "from pyspark.ml.feature import StringIndexer\n",
        "from pyspark.ml.feature import VectorAssembler"
      ],
      "metadata": {
        "id": "ay5Q2MY0HH0d"
      },
      "execution_count": null,
      "outputs": []
    },
    {
      "cell_type": "code",
      "source": [
        "df_assembler = VectorAssembler(inputCols=['rate_marriage','age','yrs_married', 'children',\n",
        "'religious'], outputCol=\"features\")\n",
        "df = df_assembler.transform(df)\n",
        "df.printSchema()"
      ],
      "metadata": {
        "colab": {
          "base_uri": "https://localhost:8080/"
        },
        "id": "uvkIcaeuGN7y",
        "outputId": "26281858-dc99-4caa-a8a6-f4bede1f0726"
      },
      "execution_count": null,
      "outputs": [
        {
          "output_type": "stream",
          "name": "stdout",
          "text": [
            "root\n",
            " |-- rate_marriage: integer (nullable = true)\n",
            " |-- age: double (nullable = true)\n",
            " |-- yrs_married: double (nullable = true)\n",
            " |-- children: double (nullable = true)\n",
            " |-- religious: integer (nullable = true)\n",
            " |-- affairs: integer (nullable = true)\n",
            " |-- features: vector (nullable = true)\n",
            "\n"
          ]
        }
      ]
    },
    {
      "cell_type": "markdown",
      "source": [
        "Splitting the Dataset"
      ],
      "metadata": {
        "id": "A_2qq6RIHM9M"
      }
    },
    {
      "cell_type": "code",
      "source": [
        "model_df=df.select(['features','affairs'])\n",
        "training_df,test_df=model_df.randomSplit([0.75,0.25])\n",
        "print(training_df.count())\n",
        "\n",
        "training_df.groupBy('affairs').count().show()"
      ],
      "metadata": {
        "colab": {
          "base_uri": "https://localhost:8080/"
        },
        "id": "y1f0Z8wzHK-0",
        "outputId": "0345d502-a646-4c6f-c2c5-fec99e9ccc0a"
      },
      "execution_count": null,
      "outputs": [
        {
          "output_type": "stream",
          "name": "stdout",
          "text": [
            "4757\n",
            "+-------+-----+\n",
            "|affairs|count|\n",
            "+-------+-----+\n",
            "|      1| 1519|\n",
            "|      0| 3238|\n",
            "+-------+-----+\n",
            "\n"
          ]
        }
      ]
    },
    {
      "cell_type": "markdown",
      "source": [
        "Build Logistic Model"
      ],
      "metadata": {
        "id": "3c2uHaTpHexu"
      }
    },
    {
      "cell_type": "code",
      "source": [
        "from pyspark.ml.classification import LogisticRegression\n",
        "log_reg=LogisticRegression(labelCol='affairs').fit(training_df)"
      ],
      "metadata": {
        "id": "AkshqUD2HbCc"
      },
      "execution_count": null,
      "outputs": []
    },
    {
      "cell_type": "markdown",
      "source": [
        "Training the Model"
      ],
      "metadata": {
        "id": "MbLiDC1KHz_4"
      }
    },
    {
      "cell_type": "code",
      "source": [
        "train_results=log_reg.evaluate(training_df).predictions\n",
        "train_results.filter(train_results['affairs']==1).filter(train_results['prediction']==1).select(['affairs',\n",
        "'prediction','probability']).show(10,False)"
      ],
      "metadata": {
        "colab": {
          "base_uri": "https://localhost:8080/"
        },
        "id": "z-miWH2XHlSL",
        "outputId": "6718f03e-196d-4d72-93ff-4d18d79cc034"
      },
      "execution_count": null,
      "outputs": [
        {
          "output_type": "stream",
          "name": "stdout",
          "text": [
            "+-------+----------+----------------------------------------+\n",
            "|affairs|prediction|probability                             |\n",
            "+-------+----------+----------------------------------------+\n",
            "|1      |1.0       |[0.16532980306639547,0.8346701969336046]|\n",
            "|1      |1.0       |[0.16532980306639547,0.8346701969336046]|\n",
            "|1      |1.0       |[0.2189614443218095,0.7810385556781905] |\n",
            "|1      |1.0       |[0.16131051422725298,0.838689485772747] |\n",
            "|1      |1.0       |[0.27812560964472416,0.7218743903552758]|\n",
            "|1      |1.0       |[0.27985770293389484,0.7201422970661051]|\n",
            "|1      |1.0       |[0.27985770293389484,0.7201422970661051]|\n",
            "|1      |1.0       |[0.15299691380728012,0.8470030861927199]|\n",
            "|1      |1.0       |[0.265698885834292,0.734301114165708]   |\n",
            "|1      |1.0       |[0.19887571142191296,0.801124288578087] |\n",
            "+-------+----------+----------------------------------------+\n",
            "only showing top 10 rows\n",
            "\n"
          ]
        }
      ]
    },
    {
      "cell_type": "markdown",
      "source": [
        "Evaluation of the model"
      ],
      "metadata": {
        "id": "ZqCfCcdgILql"
      }
    },
    {
      "cell_type": "code",
      "source": [
        "results=log_reg.evaluate(test_df).predictions\n",
        "results.printSchema()\n",
        "results.select(['affairs','prediction']).show(60,False)"
      ],
      "metadata": {
        "id": "vhWiww3JH4DU"
      },
      "execution_count": null,
      "outputs": []
    },
    {
      "cell_type": "markdown",
      "source": [
        "Confusion Matrix"
      ],
      "metadata": {
        "id": "qkMA0F93IM66"
      }
    },
    {
      "cell_type": "code",
      "source": [
        "tp = results[(results.affairs == 1) & (results.prediction == 1)].count()\n",
        "tn = results[(results.affairs == 0) & (results.prediction == 0)].count()\n",
        "fp = results[(results.affairs == 0) & (results.prediction == 1)].count()\n",
        "fn = results[(results.affairs == 1) & (results.prediction == 0)].count()"
      ],
      "metadata": {
        "id": "k2reGHlUIRbY"
      },
      "execution_count": null,
      "outputs": []
    },
    {
      "cell_type": "markdown",
      "source": [
        "Accuracy"
      ],
      "metadata": {
        "id": "15mTKThIIgWR"
      }
    },
    {
      "cell_type": "code",
      "source": [
        "accuracy=float((tp + tn) / (results.count()))\n",
        "print(accuracy)"
      ],
      "metadata": {
        "colab": {
          "base_uri": "https://localhost:8080/"
        },
        "id": "Fy-kQkCpIh-K",
        "outputId": "a0201559-d1b8-4b7b-99f4-6294cd580540"
      },
      "execution_count": null,
      "outputs": [
        {
          "output_type": "stream",
          "name": "stdout",
          "text": [
            "0.709136109384711\n"
          ]
        }
      ]
    },
    {
      "cell_type": "markdown",
      "source": [
        "Recall"
      ],
      "metadata": {
        "id": "ZwCoMWJfIuhV"
      }
    },
    {
      "cell_type": "code",
      "source": [
        "recall = float(tp)/(tp + fn)\n",
        "print(recall)"
      ],
      "metadata": {
        "colab": {
          "base_uri": "https://localhost:8080/"
        },
        "id": "OZNBZFotIsLN",
        "outputId": "52c80233-8afe-44e7-ff9d-44a398cf61d2"
      },
      "execution_count": null,
      "outputs": [
        {
          "output_type": "stream",
          "name": "stdout",
          "text": [
            "0.3258426966292135\n"
          ]
        }
      ]
    },
    {
      "cell_type": "markdown",
      "source": [
        "Precision"
      ],
      "metadata": {
        "id": "s0tU1Z6zI1Ti"
      }
    },
    {
      "cell_type": "code",
      "source": [
        "precision = float(tp) / (tp + fp)\n",
        "print(precision)"
      ],
      "metadata": {
        "colab": {
          "base_uri": "https://localhost:8080/"
        },
        "id": "ky9M-g_9I3PH",
        "outputId": "5709e07c-5aa4-4539-e2c7-d74cb637ef77"
      },
      "execution_count": null,
      "outputs": [
        {
          "output_type": "stream",
          "name": "stdout",
          "text": [
            "0.6170212765957447\n"
          ]
        }
      ]
    }
  ]
}