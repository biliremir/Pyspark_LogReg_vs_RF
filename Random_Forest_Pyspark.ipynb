{
  "nbformat": 4,
  "nbformat_minor": 0,
  "metadata": {
    "colab": {
      "provenance": []
    },
    "kernelspec": {
      "name": "python3",
      "display_name": "Python 3"
    },
    "language_info": {
      "name": "python"
    }
  },
  "cells": [
    {
      "cell_type": "code",
      "execution_count": null,
      "metadata": {
        "colab": {
          "base_uri": "https://localhost:8080/"
        },
        "id": "f16U_ANl29B-",
        "outputId": "787df6ef-4c3c-411b-873e-97161bb86feb"
      },
      "outputs": [
        {
          "output_type": "stream",
          "name": "stdout",
          "text": [
            "Looking in indexes: https://pypi.org/simple, https://us-python.pkg.dev/colab-wheels/public/simple/\n",
            "Collecting pyspark\n",
            "  Downloading pyspark-3.4.0.tar.gz (310.8 MB)\n",
            "\u001b[2K     \u001b[90m━━━━━━━━━━━━━━━━━━━━━━━━━━━━━━━━━━━━━━━\u001b[0m \u001b[32m310.8/310.8 MB\u001b[0m \u001b[31m4.0 MB/s\u001b[0m eta \u001b[36m0:00:00\u001b[0m\n",
            "\u001b[?25h  Preparing metadata (setup.py) ... \u001b[?25l\u001b[?25hdone\n",
            "Requirement already satisfied: py4j==0.10.9.7 in /usr/local/lib/python3.10/dist-packages (from pyspark) (0.10.9.7)\n",
            "Building wheels for collected packages: pyspark\n",
            "  Building wheel for pyspark (setup.py) ... \u001b[?25l\u001b[?25hdone\n",
            "  Created wheel for pyspark: filename=pyspark-3.4.0-py2.py3-none-any.whl size=311317130 sha256=d5c4abf552a049beba424eb22f891705c45e6574007cec6758e2728d1ace0b5f\n",
            "  Stored in directory: /root/.cache/pip/wheels/7b/1b/4b/3363a1d04368e7ff0d408e57ff57966fcdf00583774e761327\n",
            "Successfully built pyspark\n",
            "Installing collected packages: pyspark\n",
            "Successfully installed pyspark-3.4.0\n"
          ]
        }
      ],
      "source": [
        "!pip install pyspark"
      ]
    },
    {
      "cell_type": "markdown",
      "source": [
        "Spark session and read"
      ],
      "metadata": {
        "id": "V3s98Ltk3gHe"
      }
    },
    {
      "cell_type": "code",
      "source": [
        "from pyspark.sql import SparkSession\n",
        "spark=SparkSession.builder.appName('random_forest').getOrCreate()\n",
        "df=spark.read.csv('affairs.csv',inferSchema=True,header=True)\n",
        "print((df.count(), len(df.columns)))\n",
        "df.printSchema()"
      ],
      "metadata": {
        "id": "4pKfRrCC3J28"
      },
      "execution_count": null,
      "outputs": []
    },
    {
      "cell_type": "markdown",
      "source": [
        "Exploratory Data Analysis\n"
      ],
      "metadata": {
        "id": "rXCqBm_o3h-H"
      }
    },
    {
      "cell_type": "code",
      "source": [
        "df.show(5)\n",
        "\n",
        "df.describe().select('summary','rate_marriage','age','yrs_married','children','religious').show()\n",
        "\n",
        "df.groupBy('affairs').count().show()\n",
        "df.groupBy('rate_marriage').count().show()\n",
        "\n",
        "df.groupBy('rate_marriage','affairs').count().orderBy('rate_marriage','affairs','count',ascending=True).show()\n",
        "\n",
        "df.groupBy('religious','affairs').count().orderBy('religious','affairs',\"count\",\n",
        "ascending=True).show()\n",
        "\n",
        "df.groupBy('children','affairs').count().orderBy(\"children\",'affairs',\"count\",\n",
        "ascending=True).show()\n",
        "\n",
        "df.groupBy('affairs').mean().show()\n"
      ],
      "metadata": {
        "id": "szynMyAm3hYm"
      },
      "execution_count": null,
      "outputs": []
    },
    {
      "cell_type": "markdown",
      "source": [
        "Feature engineering"
      ],
      "metadata": {
        "id": "RDrZIZiv4S4n"
      }
    },
    {
      "cell_type": "code",
      "source": [
        "from pyspark.ml.feature import VectorAssembler\n",
        "df_assembler = VectorAssembler(inputCols=['rate_marriage',\n",
        "'age', 'yrs_married', 'children',\n",
        "'religious'], outputCol=\"features\")\n",
        "df = df_assembler.transform(df)\n",
        "df.show(10, False)\n",
        "\n",
        "\n",
        "df.select(['features','affairs']).show(10,False)\n",
        "model_df=df.select(['features','affairs'])"
      ],
      "metadata": {
        "colab": {
          "base_uri": "https://localhost:8080/"
        },
        "id": "fqbHMgwv4WRr",
        "outputId": "f6a7897e-19d1-4e72-834a-8b63526884f0"
      },
      "execution_count": null,
      "outputs": [
        {
          "output_type": "stream",
          "name": "stdout",
          "text": [
            "+-------------+----+-----------+--------+---------+-------+-----------------------+\n",
            "|rate_marriage|age |yrs_married|children|religious|affairs|features               |\n",
            "+-------------+----+-----------+--------+---------+-------+-----------------------+\n",
            "|5            |32.0|6.0        |1.0     |3        |0      |[5.0,32.0,6.0,1.0,3.0] |\n",
            "|4            |22.0|2.5        |0.0     |2        |0      |[4.0,22.0,2.5,0.0,2.0] |\n",
            "|3            |32.0|9.0        |3.0     |3        |1      |[3.0,32.0,9.0,3.0,3.0] |\n",
            "|3            |27.0|13.0       |3.0     |1        |1      |[3.0,27.0,13.0,3.0,1.0]|\n",
            "|4            |22.0|2.5        |0.0     |1        |1      |[4.0,22.0,2.5,0.0,1.0] |\n",
            "|4            |37.0|16.5       |4.0     |3        |1      |[4.0,37.0,16.5,4.0,3.0]|\n",
            "|5            |27.0|9.0        |1.0     |1        |1      |[5.0,27.0,9.0,1.0,1.0] |\n",
            "|4            |27.0|9.0        |0.0     |2        |1      |[4.0,27.0,9.0,0.0,2.0] |\n",
            "|5            |37.0|23.0       |5.5     |2        |1      |[5.0,37.0,23.0,5.5,2.0]|\n",
            "|5            |37.0|23.0       |5.5     |2        |1      |[5.0,37.0,23.0,5.5,2.0]|\n",
            "+-------------+----+-----------+--------+---------+-------+-----------------------+\n",
            "only showing top 10 rows\n",
            "\n",
            "+-----------------------+-------+\n",
            "|features               |affairs|\n",
            "+-----------------------+-------+\n",
            "|[5.0,32.0,6.0,1.0,3.0] |0      |\n",
            "|[4.0,22.0,2.5,0.0,2.0] |0      |\n",
            "|[3.0,32.0,9.0,3.0,3.0] |1      |\n",
            "|[3.0,27.0,13.0,3.0,1.0]|1      |\n",
            "|[4.0,22.0,2.5,0.0,1.0] |1      |\n",
            "|[4.0,37.0,16.5,4.0,3.0]|1      |\n",
            "|[5.0,27.0,9.0,1.0,1.0] |1      |\n",
            "|[4.0,27.0,9.0,0.0,2.0] |1      |\n",
            "|[5.0,37.0,23.0,5.5,2.0]|1      |\n",
            "|[5.0,37.0,23.0,5.5,2.0]|1      |\n",
            "+-----------------------+-------+\n",
            "only showing top 10 rows\n",
            "\n"
          ]
        }
      ]
    },
    {
      "cell_type": "markdown",
      "source": [
        "Splitting the dataset"
      ],
      "metadata": {
        "id": "PE5AMXX54qFh"
      }
    },
    {
      "cell_type": "code",
      "source": [
        "train_df,test_df=model_df.randomSplit([0.75,0.25])\n",
        "print(train_df.count())\n",
        "train_df.groupBy('affairs').count().show()"
      ],
      "metadata": {
        "colab": {
          "base_uri": "https://localhost:8080/"
        },
        "id": "Y_v8k38f4pAm",
        "outputId": "003082fd-934f-449d-d8ac-0e33aca75a87"
      },
      "execution_count": null,
      "outputs": [
        {
          "output_type": "stream",
          "name": "stdout",
          "text": [
            "4822\n",
            "+-------+-----+\n",
            "|affairs|count|\n",
            "+-------+-----+\n",
            "|      1| 1562|\n",
            "|      0| 3260|\n",
            "+-------+-----+\n",
            "\n"
          ]
        }
      ]
    },
    {
      "cell_type": "markdown",
      "source": [
        "Build an RF Model"
      ],
      "metadata": {
        "id": "sg8nZZqj4258"
      }
    },
    {
      "cell_type": "code",
      "source": [
        "from pyspark.ml.classification import RandomForestClassifier\n",
        "\n",
        "rf_classifier=RandomForestClassifier(labelCol='affairs',\n",
        "numTrees=51).fit(train_df)\n",
        "\n",
        "rf_predictions=rf_classifier.transform(test_df)\n",
        "rf_predictions.show()\n",
        "\n",
        "rf_predictions.groupBy('prediction').count().show()"
      ],
      "metadata": {
        "colab": {
          "base_uri": "https://localhost:8080/"
        },
        "id": "4M3IDyVR42aA",
        "outputId": "e677c97b-2eac-4108-beb4-c5445549d30b"
      },
      "execution_count": null,
      "outputs": [
        {
          "output_type": "stream",
          "name": "stdout",
          "text": [
            "+--------------------+-------+--------------------+--------------------+----------+\n",
            "|            features|affairs|       rawPrediction|         probability|prediction|\n",
            "+--------------------+-------+--------------------+--------------------+----------+\n",
            "|[1.0,17.5,0.5,0.0...|      0|[35.1697605685447...|[0.68960314840283...|       0.0|\n",
            "|[1.0,22.0,2.5,0.0...|      1|[18.5316630555468...|[0.36336594226562...|       1.0|\n",
            "|[1.0,22.0,2.5,1.0...|      0|[20.8589313508405...|[0.40899865393804...|       1.0|\n",
            "|[1.0,27.0,2.5,0.0...|      1|[21.0618308428013...|[0.41297707534904...|       1.0|\n",
            "|[1.0,27.0,2.5,0.0...|      1|[21.0618308428013...|[0.41297707534904...|       1.0|\n",
            "|[1.0,27.0,6.0,1.0...|      1|[19.5695584432387...|[0.38371683222036...|       1.0|\n",
            "|[1.0,27.0,6.0,1.0...|      0|[19.2482143618197...|[0.37741596787881...|       1.0|\n",
            "|[1.0,27.0,6.0,1.0...|      1|[19.2125939870234...|[0.37671752915732...|       1.0|\n",
            "|[1.0,27.0,6.0,3.0...|      0|[16.3067449836652...|[0.31974009771892...|       1.0|\n",
            "|[1.0,27.0,9.0,1.0...|      1|[17.7936261549357...|[0.34889463048893...|       1.0|\n",
            "|[1.0,27.0,9.0,2.0...|      1|[14.8488262846404...|[0.29115345656157...|       1.0|\n",
            "|[1.0,32.0,13.0,2....|      1|[12.7744695085256...|[0.25047979428481...|       1.0|\n",
            "|[1.0,32.0,13.0,2....|      1|[13.0548927889489...|[0.25597828997939...|       1.0|\n",
            "|[1.0,32.0,13.0,2....|      1|[13.0548927889489...|[0.25597828997939...|       1.0|\n",
            "|[1.0,32.0,13.0,3....|      1|[15.7153611334950...|[0.30814433595088...|       1.0|\n",
            "|[1.0,37.0,13.0,1....|      1|[19.9763664347838...|[0.39169345950556...|       1.0|\n",
            "|[1.0,37.0,13.0,3....|      0|[19.7542247788739...|[0.38733774076223...|       1.0|\n",
            "|[1.0,37.0,16.5,1....|      1|[15.8578324545687...|[0.31093789126605...|       1.0|\n",
            "|[1.0,37.0,16.5,2....|      1|[15.5995050665826...|[0.30587264836436...|       1.0|\n",
            "|[1.0,37.0,23.0,4....|      1|[13.6128818427778...|[0.26691925181917...|       1.0|\n",
            "+--------------------+-------+--------------------+--------------------+----------+\n",
            "only showing top 20 rows\n",
            "\n",
            "+----------+-----+\n",
            "|prediction|count|\n",
            "+----------+-----+\n",
            "|       0.0| 1239|\n",
            "|       1.0|  305|\n",
            "+----------+-----+\n",
            "\n"
          ]
        }
      ]
    },
    {
      "cell_type": "markdown",
      "source": [
        "Accuracy"
      ],
      "metadata": {
        "id": "v-PBPTlc5Xha"
      }
    },
    {
      "cell_type": "code",
      "source": [
        "from pyspark.ml.evaluation import MulticlassClassificationEvaluator\n",
        "from pyspark.ml.evaluation import BinaryClassificationEvaluator\n",
        "\n",
        "rf_accuracy=MulticlassClassificationEvaluator(labelCol=\"affairs\",\n",
        "metricName='accuracy').evaluate(rf_predictions)\n",
        "\n",
        "print('The accuracy of RF on test data is {0:.0%}'.format(rf_accuracy))"
      ],
      "metadata": {
        "colab": {
          "base_uri": "https://localhost:8080/"
        },
        "id": "5BTcltfK5EYP",
        "outputId": "5eecb1f1-053f-4ea2-b3da-7403bb9d039c"
      },
      "execution_count": null,
      "outputs": [
        {
          "output_type": "stream",
          "name": "stdout",
          "text": [
            "The accuracy of RF on test data is 72%\n"
          ]
        }
      ]
    },
    {
      "cell_type": "markdown",
      "source": [
        "Precision"
      ],
      "metadata": {
        "id": "jOYQRWIx5azx"
      }
    },
    {
      "cell_type": "code",
      "source": [
        "rf_precision=MulticlassClassificationEvaluator(labelCol=\"affairs\",\n",
        "metricName='weightedPrecision').evaluate(rf_predictions)\n",
        "\n",
        "print('The precision rate on test data is {0:.0%}'.format(rf_precision))"
      ],
      "metadata": {
        "colab": {
          "base_uri": "https://localhost:8080/"
        },
        "id": "OrtMALQ-5PBd",
        "outputId": "3e41ab25-ed80-4db2-a196-49c7e65b0216"
      },
      "execution_count": null,
      "outputs": [
        {
          "output_type": "stream",
          "name": "stdout",
          "text": [
            "The precision rate on test data is 70%\n"
          ]
        }
      ]
    },
    {
      "cell_type": "markdown",
      "source": [
        "AUC"
      ],
      "metadata": {
        "id": "MIhgR1lQ5fFX"
      }
    },
    {
      "cell_type": "code",
      "source": [
        "rf_auc=BinaryClassificationEvaluator(labelCol='affairs').evaluate(rf_predictions)\n",
        "\n",
        "print( rf_auc)\n",
        "\n",
        "rf_classifier.featureImportances\n",
        "\n",
        "df.schema[\"features\"].metadata[\"ml_attr\"][\"attrs\"]"
      ],
      "metadata": {
        "colab": {
          "base_uri": "https://localhost:8080/"
        },
        "id": "LCJWbTkk5cbs",
        "outputId": "b0e0b491-5543-421b-feeb-d9175146c809"
      },
      "execution_count": null,
      "outputs": [
        {
          "output_type": "stream",
          "name": "stdout",
          "text": [
            "0.7300516611446684\n"
          ]
        },
        {
          "output_type": "execute_result",
          "data": {
            "text/plain": [
              "{'numeric': [{'idx': 0, 'name': 'rate_marriage'},\n",
              "  {'idx': 1, 'name': 'age'},\n",
              "  {'idx': 2, 'name': 'yrs_married'},\n",
              "  {'idx': 3, 'name': 'children'},\n",
              "  {'idx': 4, 'name': 'religious'}]}"
            ]
          },
          "metadata": {},
          "execution_count": 24
        }
      ]
    },
    {
      "cell_type": "markdown",
      "source": [
        "# Log_Reg_dataset.csv"
      ],
      "metadata": {
        "id": "kGiMdtvNKieX"
      }
    },
    {
      "cell_type": "code",
      "source": [
        "from pyspark.sql import SparkSession\n",
        "spark=SparkSession.builder.appName('random_forest').getOrCreate()\n",
        "df=spark.read.csv('Log_Reg_dataset.csv',inferSchema=True,header=True)\n",
        "print((df.count(), len(df.columns)))\n",
        "df.printSchema()"
      ],
      "metadata": {
        "colab": {
          "base_uri": "https://localhost:8080/"
        },
        "id": "zgqRoFuFKluy",
        "outputId": "ab7a598d-fcb7-40ac-be1b-1ca2f0e19c24"
      },
      "execution_count": null,
      "outputs": [
        {
          "output_type": "stream",
          "name": "stdout",
          "text": [
            "(20000, 6)\n",
            "root\n",
            " |-- Country: string (nullable = true)\n",
            " |-- Age: integer (nullable = true)\n",
            " |-- Repeat_Visitor: integer (nullable = true)\n",
            " |-- Platform: string (nullable = true)\n",
            " |-- Web_pages_viewed: integer (nullable = true)\n",
            " |-- Status: integer (nullable = true)\n",
            "\n"
          ]
        }
      ]
    },
    {
      "cell_type": "markdown",
      "source": [
        "Exploratory Data Analysis"
      ],
      "metadata": {
        "id": "JKBKzKxWK0O-"
      }
    },
    {
      "cell_type": "code",
      "source": [
        "df.show(5)"
      ],
      "metadata": {
        "colab": {
          "base_uri": "https://localhost:8080/"
        },
        "id": "IBYgKhwbL9SN",
        "outputId": "69b0dfdb-7790-4765-ca7c-c9ccc9cb33e7"
      },
      "execution_count": null,
      "outputs": [
        {
          "output_type": "stream",
          "name": "stdout",
          "text": [
            "+---------+---+--------------+--------+----------------+------+\n",
            "|  Country|Age|Repeat_Visitor|Platform|Web_pages_viewed|Status|\n",
            "+---------+---+--------------+--------+----------------+------+\n",
            "|    India| 41|             1|   Yahoo|              21|     1|\n",
            "|   Brazil| 28|             1|   Yahoo|               5|     0|\n",
            "|   Brazil| 40|             0|  Google|               3|     0|\n",
            "|Indonesia| 31|             1|    Bing|              15|     1|\n",
            "| Malaysia| 32|             0|  Google|              15|     1|\n",
            "+---------+---+--------------+--------+----------------+------+\n",
            "only showing top 5 rows\n",
            "\n"
          ]
        }
      ]
    },
    {
      "cell_type": "code",
      "source": [
        "df.show(5)\n",
        "\n",
        "df.describe().select('summary','Country','Age','Repeat_Visitor','Platform','Web_pages_viewed').show()\n",
        "\n",
        "df.groupBy('Platform').count().show()\n",
        "df.groupBy('Country').count().show()\n",
        "\n",
        "df.groupBy('Country','Platform').count().orderBy('Country','Platform','count',ascending=True).show()\n",
        "\n",
        "\n",
        "df.groupBy('Web_pages_viewed').mean().show()"
      ],
      "metadata": {
        "colab": {
          "base_uri": "https://localhost:8080/"
        },
        "id": "heDS1cDJK1bh",
        "outputId": "6c6c795e-9053-4bbe-8d0e-27a8747d4211"
      },
      "execution_count": null,
      "outputs": [
        {
          "output_type": "stream",
          "name": "stdout",
          "text": [
            "+---------+---+--------------+--------+----------------+------+\n",
            "|  Country|Age|Repeat_Visitor|Platform|Web_pages_viewed|Status|\n",
            "+---------+---+--------------+--------+----------------+------+\n",
            "|    India| 41|             1|   Yahoo|              21|     1|\n",
            "|   Brazil| 28|             1|   Yahoo|               5|     0|\n",
            "|   Brazil| 40|             0|  Google|               3|     0|\n",
            "|Indonesia| 31|             1|    Bing|              15|     1|\n",
            "| Malaysia| 32|             0|  Google|              15|     1|\n",
            "+---------+---+--------------+--------+----------------+------+\n",
            "only showing top 5 rows\n",
            "\n",
            "+-------+--------+-----------------+-----------------+--------+-----------------+\n",
            "|summary| Country|              Age|   Repeat_Visitor|Platform| Web_pages_viewed|\n",
            "+-------+--------+-----------------+-----------------+--------+-----------------+\n",
            "|  count|   20000|            20000|            20000|   20000|            20000|\n",
            "|   mean|    null|         28.53955|           0.5029|    null|           9.5533|\n",
            "| stddev|    null|7.888912950773227|0.500004090187782|    null|6.073903499824976|\n",
            "|    min|  Brazil|               17|                0|    Bing|                1|\n",
            "|    max|Malaysia|              111|                1|   Yahoo|               29|\n",
            "+-------+--------+-----------------+-----------------+--------+-----------------+\n",
            "\n",
            "+--------+-----+\n",
            "|Platform|count|\n",
            "+--------+-----+\n",
            "|   Yahoo| 9859|\n",
            "|    Bing| 4360|\n",
            "|  Google| 5781|\n",
            "+--------+-----+\n",
            "\n",
            "+---------+-----+\n",
            "|  Country|count|\n",
            "+---------+-----+\n",
            "| Malaysia| 1218|\n",
            "|    India| 4018|\n",
            "|Indonesia|12178|\n",
            "|   Brazil| 2586|\n",
            "+---------+-----+\n",
            "\n",
            "+---------+--------+-----+\n",
            "|  Country|Platform|count|\n",
            "+---------+--------+-----+\n",
            "|   Brazil|    Bing|  604|\n",
            "|   Brazil|  Google|  729|\n",
            "|   Brazil|   Yahoo| 1253|\n",
            "|    India|    Bing|  853|\n",
            "|    India|  Google| 1170|\n",
            "|    India|   Yahoo| 1995|\n",
            "|Indonesia|    Bing| 2664|\n",
            "|Indonesia|  Google| 3529|\n",
            "|Indonesia|   Yahoo| 5985|\n",
            "| Malaysia|    Bing|  239|\n",
            "| Malaysia|  Google|  353|\n",
            "| Malaysia|   Yahoo|  626|\n",
            "+---------+--------+-----+\n",
            "\n",
            "+----------------+------------------+-------------------+---------------------+--------------------+\n",
            "|Web_pages_viewed|          avg(Age)|avg(Repeat_Visitor)|avg(Web_pages_viewed)|         avg(Status)|\n",
            "+----------------+------------------+-------------------+---------------------+--------------------+\n",
            "|              28|              17.0|                0.0|                 28.0|                 1.0|\n",
            "|              26|            25.625|              0.625|                 26.0|                 1.0|\n",
            "|              27|22.571428571428573| 0.5714285714285714|                 27.0|                 1.0|\n",
            "|              12|26.766022380467955| 0.6703967446592065|                 12.0|  0.8860630722278738|\n",
            "|              22|26.519553072625698| 0.6983240223463687|                 22.0|                 1.0|\n",
            "|               1|30.350789096126256| 0.2898134863701578|                  1.0|                 0.0|\n",
            "|              13| 26.46793587174349| 0.7254509018036072|                 13.0|  0.9569138276553106|\n",
            "|               6|30.009208103130756| 0.3342541436464088|                  6.0| 0.09576427255985268|\n",
            "|              16|26.538706256627783| 0.6702014846235419|                 16.0|  0.9925768822905621|\n",
            "|               3|30.342978122794637|0.29992942836979536|                  3.0|0.007762879322512...|\n",
            "|              20|26.467005076142133| 0.6725888324873096|                 20.0|                 1.0|\n",
            "|               5| 30.31305044035228| 0.3634907926341073|                  5.0|0.044035228182546036|\n",
            "|              19|26.805100182149364| 0.6739526411657559|                 19.0|                 1.0|\n",
            "|              15| 26.60103092783505| 0.6938144329896907|                 15.0|  0.9876288659793815|\n",
            "|               9|28.178428761651134| 0.5006657789613849|                  9.0|  0.5233022636484687|\n",
            "|              17|26.626302083333332| 0.6927083333333334|                 17.0|  0.9973958333333334|\n",
            "|               4|30.402654867256636| 0.3134218289085546|                  4.0| 0.02359882005899705|\n",
            "|               8| 29.72289156626506| 0.4650602409638554|                  8.0|  0.3132530120481928|\n",
            "|              23| 26.52212389380531| 0.6637168141592921|                 23.0|                 1.0|\n",
            "|               7|30.248095756256802|0.36235038084874865|                  7.0| 0.16757344940152338|\n",
            "+----------------+------------------+-------------------+---------------------+--------------------+\n",
            "only showing top 20 rows\n",
            "\n"
          ]
        }
      ]
    },
    {
      "cell_type": "markdown",
      "source": [
        "String Index"
      ],
      "metadata": {
        "id": "bTJQUApsMjqH"
      }
    },
    {
      "cell_type": "code",
      "source": [
        "from pyspark.ml.feature import StringIndexer\n",
        "from pyspark.ml.feature import VectorAssembler"
      ],
      "metadata": {
        "id": "3vsW9XJUMrsH"
      },
      "execution_count": null,
      "outputs": []
    },
    {
      "cell_type": "code",
      "source": [
        "Platform_indexer =StringIndexer(inputCol=\"Platform\",\n",
        "outputCol=\"Platform_Num\").fit(df)\n",
        "df = Platform_indexer.transform(df)\n",
        "df.show(5,False)"
      ],
      "metadata": {
        "colab": {
          "base_uri": "https://localhost:8080/"
        },
        "id": "QZq8yHLEMiYH",
        "outputId": "a6318534-a441-4dad-fb4e-0c7bb60daace"
      },
      "execution_count": null,
      "outputs": [
        {
          "output_type": "stream",
          "name": "stdout",
          "text": [
            "+---------+---+--------------+--------+----------------+------+------------+\n",
            "|Country  |Age|Repeat_Visitor|Platform|Web_pages_viewed|Status|Platform_Num|\n",
            "+---------+---+--------------+--------+----------------+------+------------+\n",
            "|India    |41 |1             |Yahoo   |21              |1     |0.0         |\n",
            "|Brazil   |28 |1             |Yahoo   |5               |0     |0.0         |\n",
            "|Brazil   |40 |0             |Google  |3               |0     |1.0         |\n",
            "|Indonesia|31 |1             |Bing    |15              |1     |2.0         |\n",
            "|Malaysia |32 |0             |Google  |15              |1     |1.0         |\n",
            "+---------+---+--------------+--------+----------------+------+------------+\n",
            "only showing top 5 rows\n",
            "\n"
          ]
        }
      ]
    },
    {
      "cell_type": "code",
      "source": [
        "country_indexer = StringIndexer(inputCol=\"Country\",\n",
        "outputCol=\"Country_Num\").fit(df)\n",
        "df = country_indexer.transform(df)\n"
      ],
      "metadata": {
        "id": "hDqDmTDaM4UD"
      },
      "execution_count": null,
      "outputs": []
    },
    {
      "cell_type": "code",
      "source": [
        "df.show(5)"
      ],
      "metadata": {
        "colab": {
          "base_uri": "https://localhost:8080/"
        },
        "id": "wjEBtO1gM_wS",
        "outputId": "a047b610-8af8-491a-a46e-1c04fe880b7b"
      },
      "execution_count": null,
      "outputs": [
        {
          "output_type": "stream",
          "name": "stdout",
          "text": [
            "+---------+---+--------------+--------+----------------+------+------------+-----------+\n",
            "|  Country|Age|Repeat_Visitor|Platform|Web_pages_viewed|Status|Platform_Num|Country_Num|\n",
            "+---------+---+--------------+--------+----------------+------+------------+-----------+\n",
            "|    India| 41|             1|   Yahoo|              21|     1|         0.0|        1.0|\n",
            "|   Brazil| 28|             1|   Yahoo|               5|     0|         0.0|        2.0|\n",
            "|   Brazil| 40|             0|  Google|               3|     0|         1.0|        2.0|\n",
            "|Indonesia| 31|             1|    Bing|              15|     1|         2.0|        0.0|\n",
            "| Malaysia| 32|             0|  Google|              15|     1|         1.0|        3.0|\n",
            "+---------+---+--------------+--------+----------------+------+------------+-----------+\n",
            "only showing top 5 rows\n",
            "\n"
          ]
        }
      ]
    },
    {
      "cell_type": "markdown",
      "source": [
        "Feature Engineering"
      ],
      "metadata": {
        "id": "0ynSFwgNLbl9"
      }
    },
    {
      "cell_type": "code",
      "source": [
        "df_assembler = VectorAssembler(inputCols=['Platform_Num','Country_Num','Age', 'Repeat_Visitor',\n",
        "'Web_pages_viewed'], outputCol=\"features\")\n",
        "df = df_assembler.transform(df)\n",
        "df.show(10, False)\n",
        "\n",
        "\n",
        "df.select(['features','Status']).show(10,False)\n",
        "model_df=df.select(['features','Status'])"
      ],
      "metadata": {
        "colab": {
          "base_uri": "https://localhost:8080/"
        },
        "id": "01hFFs_OLdg7",
        "outputId": "d115eddc-2e0d-4e49-f03d-d46ea2bd5ffc"
      },
      "execution_count": null,
      "outputs": [
        {
          "output_type": "stream",
          "name": "stdout",
          "text": [
            "+---------+---+--------------+--------+----------------+------+------------+-----------+-----------------------+\n",
            "|Country  |Age|Repeat_Visitor|Platform|Web_pages_viewed|Status|Platform_Num|Country_Num|features               |\n",
            "+---------+---+--------------+--------+----------------+------+------------+-----------+-----------------------+\n",
            "|India    |41 |1             |Yahoo   |21              |1     |0.0         |1.0        |[0.0,1.0,41.0,1.0,21.0]|\n",
            "|Brazil   |28 |1             |Yahoo   |5               |0     |0.0         |2.0        |[0.0,2.0,28.0,1.0,5.0] |\n",
            "|Brazil   |40 |0             |Google  |3               |0     |1.0         |2.0        |[1.0,2.0,40.0,0.0,3.0] |\n",
            "|Indonesia|31 |1             |Bing    |15              |1     |2.0         |0.0        |[2.0,0.0,31.0,1.0,15.0]|\n",
            "|Malaysia |32 |0             |Google  |15              |1     |1.0         |3.0        |[1.0,3.0,32.0,0.0,15.0]|\n",
            "|Brazil   |32 |0             |Google  |3               |0     |1.0         |2.0        |[1.0,2.0,32.0,0.0,3.0] |\n",
            "|Brazil   |32 |0             |Google  |6               |0     |1.0         |2.0        |[1.0,2.0,32.0,0.0,6.0] |\n",
            "|Indonesia|27 |0             |Google  |9               |0     |1.0         |0.0        |[1.0,0.0,27.0,0.0,9.0] |\n",
            "|Indonesia|32 |0             |Yahoo   |2               |0     |0.0         |0.0        |(5,[2,4],[32.0,2.0])   |\n",
            "|Indonesia|31 |1             |Bing    |16              |1     |2.0         |0.0        |[2.0,0.0,31.0,1.0,16.0]|\n",
            "+---------+---+--------------+--------+----------------+------+------------+-----------+-----------------------+\n",
            "only showing top 10 rows\n",
            "\n",
            "+-----------------------+------+\n",
            "|features               |Status|\n",
            "+-----------------------+------+\n",
            "|[0.0,1.0,41.0,1.0,21.0]|1     |\n",
            "|[0.0,2.0,28.0,1.0,5.0] |0     |\n",
            "|[1.0,2.0,40.0,0.0,3.0] |0     |\n",
            "|[2.0,0.0,31.0,1.0,15.0]|1     |\n",
            "|[1.0,3.0,32.0,0.0,15.0]|1     |\n",
            "|[1.0,2.0,32.0,0.0,3.0] |0     |\n",
            "|[1.0,2.0,32.0,0.0,6.0] |0     |\n",
            "|[1.0,0.0,27.0,0.0,9.0] |0     |\n",
            "|(5,[2,4],[32.0,2.0])   |0     |\n",
            "|[2.0,0.0,31.0,1.0,16.0]|1     |\n",
            "+-----------------------+------+\n",
            "only showing top 10 rows\n",
            "\n"
          ]
        }
      ]
    },
    {
      "cell_type": "markdown",
      "source": [
        "Splitting the Dataset"
      ],
      "metadata": {
        "id": "bqpEl7jCPilz"
      }
    },
    {
      "cell_type": "code",
      "source": [
        "train_df,test_df=model_df.randomSplit([0.75,0.25])\n",
        "print(train_df.count())\n",
        "train_df.groupBy('Status').count().show()"
      ],
      "metadata": {
        "colab": {
          "base_uri": "https://localhost:8080/"
        },
        "id": "XwGp2SCQPo5K",
        "outputId": "3fcdfe1c-7a5f-4d25-f28b-7246d4452919"
      },
      "execution_count": null,
      "outputs": [
        {
          "output_type": "stream",
          "name": "stdout",
          "text": [
            "14821\n",
            "+------+-----+\n",
            "|Status|count|\n",
            "+------+-----+\n",
            "|     1| 7403|\n",
            "|     0| 7418|\n",
            "+------+-----+\n",
            "\n"
          ]
        }
      ]
    },
    {
      "cell_type": "markdown",
      "source": [
        "Building the RF Model"
      ],
      "metadata": {
        "id": "PJWDiBvMP6Y3"
      }
    },
    {
      "cell_type": "code",
      "source": [
        "from pyspark.ml.classification import RandomForestClassifier\n",
        "\n",
        "rf_classifier=RandomForestClassifier(labelCol='Status',\n",
        "numTrees=51).fit(train_df)\n",
        "\n",
        "rf_predictions=rf_classifier.transform(test_df)\n",
        "rf_predictions.show()\n",
        "\n",
        "rf_predictions.groupBy('prediction').count().show()"
      ],
      "metadata": {
        "colab": {
          "base_uri": "https://localhost:8080/"
        },
        "id": "P6sH5bH3Pt4u",
        "outputId": "d7a92d34-2890-4a94-f681-1d090f645e6b"
      },
      "execution_count": null,
      "outputs": [
        {
          "output_type": "stream",
          "name": "stdout",
          "text": [
            "+--------------------+------+--------------------+--------------------+----------+\n",
            "|            features|Status|       rawPrediction|         probability|prediction|\n",
            "+--------------------+------+--------------------+--------------------+----------+\n",
            "|(5,[2,4],[17.0,1.0])|     0|[49.3331405364608...|[0.96731648110707...|       0.0|\n",
            "|(5,[2,4],[17.0,1.0])|     0|[49.3331405364608...|[0.96731648110707...|       0.0|\n",
            "|(5,[2,4],[17.0,2.0])|     0|[49.3331405364608...|[0.96731648110707...|       0.0|\n",
            "|(5,[2,4],[17.0,2.0])|     0|[49.3331405364608...|[0.96731648110707...|       0.0|\n",
            "|(5,[2,4],[17.0,3.0])|     0|[49.3331405364608...|[0.96731648110707...|       0.0|\n",
            "|(5,[2,4],[17.0,3.0])|     0|[49.3331405364608...|[0.96731648110707...|       0.0|\n",
            "|(5,[2,4],[17.0,4.0])|     0|[49.3331405364608...|[0.96731648110707...|       0.0|\n",
            "|(5,[2,4],[17.0,5.0])|     0|[49.3331405364608...|[0.96731648110707...|       0.0|\n",
            "|(5,[2,4],[17.0,5.0])|     0|[49.3331405364608...|[0.96731648110707...|       0.0|\n",
            "|(5,[2,4],[17.0,6.0])|     0|[47.6153407011539...|[0.93363413139517...|       0.0|\n",
            "|(5,[2,4],[17.0,6.0])|     0|[47.6153407011539...|[0.93363413139517...|       0.0|\n",
            "|(5,[2,4],[17.0,8.0])|     0|[39.1924448992628...|[0.76847931175025...|       0.0|\n",
            "|(5,[2,4],[17.0,11...|     0|[9.04315389857311...|[0.17731674310927...|       1.0|\n",
            "|(5,[2,4],[17.0,12...|     1|[5.88007549001782...|[0.11529559784348...|       1.0|\n",
            "|(5,[2,4],[17.0,12...|     1|[5.88007549001782...|[0.11529559784348...|       1.0|\n",
            "|(5,[2,4],[17.0,12...|     1|[5.88007549001782...|[0.11529559784348...|       1.0|\n",
            "|(5,[2,4],[17.0,13...|     1|[2.27758439257265...|[0.04465851750142...|       1.0|\n",
            "|(5,[2,4],[17.0,13...|     1|[2.27758439257265...|[0.04465851750142...|       1.0|\n",
            "|(5,[2,4],[17.0,14...|     0|[2.04110248695914...|[0.04002161739135...|       1.0|\n",
            "|(5,[2,4],[17.0,14...|     1|[2.04110248695914...|[0.04002161739135...|       1.0|\n",
            "+--------------------+------+--------------------+--------------------+----------+\n",
            "only showing top 20 rows\n",
            "\n",
            "+----------+-----+\n",
            "|prediction|count|\n",
            "+----------+-----+\n",
            "|       0.0| 2606|\n",
            "|       1.0| 2573|\n",
            "+----------+-----+\n",
            "\n"
          ]
        }
      ]
    },
    {
      "cell_type": "markdown",
      "source": [
        "Accuracy"
      ],
      "metadata": {
        "id": "tzS2bBXWQCVP"
      }
    },
    {
      "cell_type": "code",
      "source": [
        "from pyspark.ml.evaluation import MulticlassClassificationEvaluator\n",
        "from pyspark.ml.evaluation import BinaryClassificationEvaluator\n",
        "\n",
        "rf_accuracy=MulticlassClassificationEvaluator(labelCol=\"Status\",\n",
        "metricName='accuracy').evaluate(rf_predictions)\n",
        "\n",
        "print('The accuracy of RF on test data is {0:.0%}'.format(rf_accuracy))"
      ],
      "metadata": {
        "colab": {
          "base_uri": "https://localhost:8080/"
        },
        "id": "5G7lLxgNQD4X",
        "outputId": "78285a6b-a7fe-4da3-8b65-0609a3aacc22"
      },
      "execution_count": null,
      "outputs": [
        {
          "output_type": "stream",
          "name": "stdout",
          "text": [
            "The accuracy of RF on test data is 94%\n"
          ]
        }
      ]
    },
    {
      "cell_type": "markdown",
      "source": [
        "Precision"
      ],
      "metadata": {
        "id": "5kn3KEGTQN56"
      }
    },
    {
      "cell_type": "code",
      "source": [
        "rf_precision=MulticlassClassificationEvaluator(labelCol=\"Status\",\n",
        "metricName='weightedPrecision').evaluate(rf_predictions)\n",
        "\n",
        "print('The precision rate on test data is {0:.0%}'.format(rf_precision))"
      ],
      "metadata": {
        "colab": {
          "base_uri": "https://localhost:8080/"
        },
        "id": "agBZotUbQO66",
        "outputId": "7af81c59-51c5-4f54-8616-71df823348d5"
      },
      "execution_count": null,
      "outputs": [
        {
          "output_type": "stream",
          "name": "stdout",
          "text": [
            "The precision rate on test data is 94%\n"
          ]
        }
      ]
    },
    {
      "cell_type": "markdown",
      "source": [
        "AUC"
      ],
      "metadata": {
        "id": "jGvaDwm5QbCj"
      }
    },
    {
      "cell_type": "code",
      "source": [
        "rf_auc=BinaryClassificationEvaluator(labelCol='Status').evaluate(rf_predictions)\n",
        "\n",
        "print( rf_auc)\n",
        "\n",
        "rf_classifier.featureImportances\n",
        "\n",
        "df.schema[\"features\"].metadata[\"ml_attr\"][\"attrs\"]"
      ],
      "metadata": {
        "id": "_lkaVg2XQcF3",
        "outputId": "cf37302a-3466-497d-9911-d7434d5b0ca6",
        "colab": {
          "base_uri": "https://localhost:8080/"
        }
      },
      "execution_count": null,
      "outputs": [
        {
          "output_type": "stream",
          "name": "stdout",
          "text": [
            "0.9823961211276675\n"
          ]
        },
        {
          "output_type": "execute_result",
          "data": {
            "text/plain": [
              "{'numeric': [{'idx': 2, 'name': 'Age'},\n",
              "  {'idx': 3, 'name': 'Repeat_Visitor'},\n",
              "  {'idx': 4, 'name': 'Web_pages_viewed'}],\n",
              " 'nominal': [{'vals': ['Yahoo', 'Google', 'Bing'],\n",
              "   'idx': 0,\n",
              "   'name': 'Platform_Num'},\n",
              "  {'vals': ['Indonesia', 'India', 'Brazil', 'Malaysia'],\n",
              "   'idx': 1,\n",
              "   'name': 'Country_Num'}]}"
            ]
          },
          "metadata": {},
          "execution_count": 47
        }
      ]
    }
  ]
}